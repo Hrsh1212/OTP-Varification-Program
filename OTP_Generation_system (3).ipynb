{
  "nbformat": 4,
  "nbformat_minor": 0,
  "metadata": {
    "colab": {
      "provenance": []
    },
    "kernelspec": {
      "name": "python3",
      "display_name": "Python 3"
    },
    "language_info": {
      "name": "python"
    }
  },
  "cells": [
    {
      "cell_type": "markdown",
      "source": [
        "# Project Title: OTP Verification System"
      ],
      "metadata": {
        "id": "ky0GHWzj-HOV"
      }
    },
    {
      "cell_type": "markdown",
      "source": [
        "## Problem Statement:\n",
        "\n",
        "You are tasked with developing an OTP (One-Time Password) verification system in Python. The system should generate a 6-digit OTP and send it to the user's email address for verification. Upon receiving the OTP, the user should enter it into the system for validation. If the entered OTP matches the generated OTP, access should be granted; otherwise, access should be denied."
      ],
      "metadata": {
        "id": "9qzKrLob-S4c"
      }
    },
    {
      "cell_type": "markdown",
      "source": [
        "##Project Deliverables:\n",
        "\n",
        "Python script containing the implementation of the OTP verification system.\n",
        "\n",
        "Documentation explaining the functionality of each function, how to run the program, and any dependencies required.\n",
        "\n",
        "Test cases to ensure the system functions correctly under various scenarios, including correct and incorrect OTP entries.\n",
        "\n",
        "Optionally, you can create a simple GUI interface for the OTP verification system to enhance user experience."
      ],
      "metadata": {
        "id": "Ev9VzFtL-eQ7"
      }
    },
    {
      "cell_type": "markdown",
      "source": [
        "## Project Evaluation:\n",
        "\n",
        "Your project will be evaluated based on the following criteria:\n",
        "\n",
        "Correctness and functionality of the OTP generation, sending, and verification process.\n",
        "\n",
        "Code quality, including adherence to Python best practices, readability, and documentation.\n",
        "\n",
        "Error handling and user interaction aspects of the system.\n",
        "\n",
        "Robustness and reliability of the system under different scenarios.\n",
        "\n",
        "Optional: Creativity and usability of the GUI interface (if implemented)."
      ],
      "metadata": {
        "id": "-poPoU6m-oeE"
      }
    },
    {
      "cell_type": "code",
      "execution_count": null,
      "metadata": {
        "id": "nvi5zEeK7QhN",
        "colab": {
          "base_uri": "https://localhost:8080/"
        },
        "outputId": "9e609b08-ce23-4e1b-f597-9407b5b2d708"
      },
      "outputs": [
        {
          "output_type": "stream",
          "name": "stdout",
          "text": [
            "User Name : Harsh\n",
            "Please Enter Email :Pandathrsh@gmail.com\n",
            "Enter OTP (attempt 1 of 3): 4545485\n",
            "Incorrect OTP. Please try again.\n",
            "You have 43 seconds remaining for this attempt.\n",
            "Enter OTP (attempt 2 of 3): 263060\n",
            "OTP verified successfully!\n",
            "OTP validation successful. You can now proceed.\n"
          ]
        }
      ],
      "source": [
        "#importing important libraries\n",
        "import random\n",
        "import smtplib\n",
        "import time\n",
        "\n",
        "Password= '  ' # App password for gmail\n",
        "\n",
        "OTP = ''.join([str(random.randint(0,9)) for i in range(6)]) # Creating the random int for Otp Generation with the help of randomint..\n",
        "\n",
        "Server= smtplib.SMTP('smtp.gmail.com',587) # Creating and connecting the server with gmail\n",
        "\n",
        "Server.starttls()  # Establish a secure connection between the client and server over an existing TCP connection. It stands for Transport Layer Security (TLS)\n",
        "\n",
        "Server.login('@gmail.com',Password) # Login to the gmail account\n",
        "\n",
        "Msg= '  Hello  ' + input(\"User Name : \")+'  Your Otp is  '  + OTP # Msg that send to the client\n",
        "\n",
        "Server.sendmail('@gmail.com',input('Please Enter Email :'),Msg) # Sender and recivers address\n",
        "\n",
        "Server.quit()  # Quit the server\n",
        "\n",
        "def validate_otp(OTP, attempts=3, timeout=60): # creating The new function the have only 3 attempts and time 60 seconds...\n",
        "\n",
        "    \"\"\"Validates the entered OTP with the generated OTP, providing a limited number of attempts.\"\"\"\n",
        "    start_time = time.time()\n",
        "\n",
        "    for attempt in range(attempts): # loop for attempts and timeout.\n",
        "        entered_otp = input(f\"Enter OTP (attempt {attempt+1} of {attempts}): \") # asking the user to enter the otp\n",
        "\n",
        "        if entered_otp == OTP:\n",
        "\n",
        "            print(\"OTP verified successfully!\")\n",
        "            return True\n",
        "        else:\n",
        "            remaining_time = timeout - (time.time() - start_time) # This is for timeout\n",
        "\n",
        "            if remaining_time > 0:\n",
        "                print(\"Incorrect OTP. Please try again.\")\n",
        "                print(f\"You have {int(remaining_time)} seconds remaining for this attempt.\")\n",
        "\n",
        "            else:\n",
        "                print(\"Time limit exceeded. Please request a new OTP.\")\n",
        "                return False\n",
        "    return False  # OTP not verified after all attempts\n",
        "if validate_otp(OTP):\n",
        "    print(\"OTP validation successful. You can now proceed.\")\n",
        "else:\n",
        "    print(\"OTP validation failed. Please contact support if you encounter issues.\")"
      ]
    },
    {
      "cell_type": "markdown",
      "source": [
        "# Thankyou"
      ],
      "metadata": {
        "id": "HaDoWFUV-xAk"
      }
    }
  ]
}